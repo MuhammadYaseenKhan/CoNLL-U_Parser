{
 "cells": [
  {
   "cell_type": "code",
   "execution_count": 1,
   "metadata": {},
   "outputs": [],
   "source": [
    "from time import time\n",
    "import pandas as pd"
   ]
  },
  {
   "cell_type": "markdown",
   "metadata": {},
   "source": [
    "### `records` be an empty list of lists to hold tagged information"
   ]
  },
  {
   "cell_type": "code",
   "execution_count": 21,
   "metadata": {},
   "outputs": [],
   "source": [
    "records = list()"
   ]
  },
  {
   "cell_type": "markdown",
   "metadata": {},
   "source": [
    "### Parsing the `.conllu` file line by lines "
   ]
  },
  {
   "cell_type": "code",
   "execution_count": 22,
   "metadata": {},
   "outputs": [
    {
     "name": "stdout",
     "output_type": "stream",
     "text": [
      "Time elapsed: 0.09043073654174805 seconds\n"
     ]
    }
   ],
   "source": [
    "start = time()\n",
    "file_path = 'mt-ud-train.conllu' # path where your .conllu file is located\n",
    "with open(file_path, 'r') as file:\n",
    "    doc_id = ''\n",
    "    sent_id = ''\n",
    "    for line in file:\n",
    "        if len(line) > 1 :\n",
    "            if line[0] == '#':\n",
    "                line = line.split('=')\n",
    "                if 'newdoc id' in line[0]:\n",
    "                    doc_id_ = line[1].strip()\n",
    "                elif 'sent_id' in line[0]:\n",
    "                    sent_id_ = line[1].strip()\n",
    "            else:\n",
    "                info = line.split('\\t')\n",
    "                if len(info) == 10:\n",
    "                    records.append([doc_id, sent_id] + [x.strip() for x in info])\n",
    "end = time()\n",
    "print(\"Time elapsed:\", end-start, \"seconds\")"
   ]
  },
  {
   "cell_type": "markdown",
   "metadata": {},
   "source": [
    "### Create a dataframe to copy the parsed records"
   ]
  },
  {
   "cell_type": "code",
   "execution_count": 23,
   "metadata": {},
   "outputs": [],
   "source": [
    "df = pd.DataFrame(records, columns=['DOC_NO', 'SENT_NO', 'ID', 'FORM','LEMMA','UPOS', 'XPOS', 'FEAT','HEAD', 'DEPREL', 'DEPS', 'MISC'])"
   ]
  },
  {
   "cell_type": "markdown",
   "metadata": {},
   "source": [
    "### Saving parsed records in tsv (tab separated view) file"
   ]
  },
  {
   "cell_type": "code",
   "execution_count": 24,
   "metadata": {},
   "outputs": [
    {
     "data": {
      "text/html": [
       "<div>\n",
       "<style scoped>\n",
       "    .dataframe tbody tr th:only-of-type {\n",
       "        vertical-align: middle;\n",
       "    }\n",
       "\n",
       "    .dataframe tbody tr th {\n",
       "        vertical-align: top;\n",
       "    }\n",
       "\n",
       "    .dataframe thead th {\n",
       "        text-align: right;\n",
       "    }\n",
       "</style>\n",
       "<table border=\"1\" class=\"dataframe\">\n",
       "  <thead>\n",
       "    <tr style=\"text-align: right;\">\n",
       "      <th></th>\n",
       "      <th>DOC_NO</th>\n",
       "      <th>SENT_NO</th>\n",
       "      <th>ID</th>\n",
       "      <th>FORM</th>\n",
       "      <th>LEMMA</th>\n",
       "      <th>UPOS</th>\n",
       "      <th>XPOS</th>\n",
       "      <th>FEAT</th>\n",
       "      <th>HEAD</th>\n",
       "      <th>DEPREL</th>\n",
       "      <th>DEPS</th>\n",
       "      <th>MISC</th>\n",
       "    </tr>\n",
       "  </thead>\n",
       "  <tbody>\n",
       "    <tr>\n",
       "      <th>0</th>\n",
       "      <td></td>\n",
       "      <td></td>\n",
       "      <td>1</td>\n",
       "      <td>Illum</td>\n",
       "      <td>_</td>\n",
       "      <td>ADV</td>\n",
       "      <td>ADV</td>\n",
       "      <td>_</td>\n",
       "      <td>7</td>\n",
       "      <td>advmod</td>\n",
       "      <td>_</td>\n",
       "      <td>_</td>\n",
       "    </tr>\n",
       "    <tr>\n",
       "      <th>1</th>\n",
       "      <td></td>\n",
       "      <td></td>\n",
       "      <td>2</td>\n",
       "      <td>waranofsinhar</td>\n",
       "      <td>_</td>\n",
       "      <td>ADV</td>\n",
       "      <td>ADV</td>\n",
       "      <td>_</td>\n",
       "      <td>7</td>\n",
       "      <td>advmod</td>\n",
       "      <td>_</td>\n",
       "      <td>_</td>\n",
       "    </tr>\n",
       "    <tr>\n",
       "      <th>2</th>\n",
       "      <td></td>\n",
       "      <td></td>\n",
       "      <td>3</td>\n",
       "      <td>il-</td>\n",
       "      <td>_</td>\n",
       "      <td>DET</td>\n",
       "      <td>DEF</td>\n",
       "      <td>_</td>\n",
       "      <td>4</td>\n",
       "      <td>det</td>\n",
       "      <td>_</td>\n",
       "      <td>SpaceAfter=No</td>\n",
       "    </tr>\n",
       "    <tr>\n",
       "      <th>3</th>\n",
       "      <td></td>\n",
       "      <td></td>\n",
       "      <td>4</td>\n",
       "      <td>Maġistrat</td>\n",
       "      <td>_</td>\n",
       "      <td>NOUN</td>\n",
       "      <td>NOUN</td>\n",
       "      <td>_</td>\n",
       "      <td>5</td>\n",
       "      <td>compound</td>\n",
       "      <td>_</td>\n",
       "      <td>_</td>\n",
       "    </tr>\n",
       "    <tr>\n",
       "      <th>4</th>\n",
       "      <td></td>\n",
       "      <td></td>\n",
       "      <td>5</td>\n",
       "      <td>Miriam</td>\n",
       "      <td>_</td>\n",
       "      <td>PROPN</td>\n",
       "      <td>NOUN_PROP</td>\n",
       "      <td>_</td>\n",
       "      <td>7</td>\n",
       "      <td>nsubj</td>\n",
       "      <td>_</td>\n",
       "      <td>_</td>\n",
       "    </tr>\n",
       "  </tbody>\n",
       "</table>\n",
       "</div>"
      ],
      "text/plain": [
       "  DOC_NO SENT_NO ID           FORM LEMMA   UPOS       XPOS FEAT HEAD  \\\n",
       "0                 1          Illum     _    ADV        ADV    _    7   \n",
       "1                 2  waranofsinhar     _    ADV        ADV    _    7   \n",
       "2                 3            il-     _    DET        DEF    _    4   \n",
       "3                 4      Maġistrat     _   NOUN       NOUN    _    5   \n",
       "4                 5         Miriam     _  PROPN  NOUN_PROP    _    7   \n",
       "\n",
       "     DEPREL DEPS           MISC  \n",
       "0    advmod    _              _  \n",
       "1    advmod    _              _  \n",
       "2       det    _  SpaceAfter=No  \n",
       "3  compound    _              _  \n",
       "4     nsubj    _              _  "
      ]
     },
     "execution_count": 24,
     "metadata": {},
     "output_type": "execute_result"
    }
   ],
   "source": [
    "df.to_csv('mt-ud-train.tsv', header=True, index=None, sep='\\t')\n",
    "df.head()"
   ]
  },
  {
   "cell_type": "code",
   "execution_count": 25,
   "metadata": {},
   "outputs": [
    {
     "data": {
      "text/plain": [
       "array(['tan-', 'taħt', \"ta'\", \"b'\", 'fil-', 'tax-', 'taż-', 'mill-', 'fi',\n",
       "       \"f'\", 'minn', 'Fis-', 'tal-', 'bħala', 'lil', 'Fil-', 'sal-',\n",
       "       \"ma'\", 'fir-', 'maż-', 'fuq', 'mal-', 'mix-', 'Skont', 'bil-',\n",
       "       'bejn', \"F'\", 'lill-', 'dwar', 'bl-', 'tat-', 'wara', 'fl-',\n",
       "       'għal', 'mingħajr', 'tad-', 'min-', 'Waqt', 'qabel', 'fiż-',\n",
       "       'mingħand', 'Fix-', 'bis-', 'Dwar', 'fit-', 'waqt', 'għall-',\n",
       "       'tar-', 'minħabba', 'qrib', 'tas-', 'Fid-', \"B'\", 'kontra', 'bħal',\n",
       "       'Fl-', 'għat-', \"Ta'\", \"'l\", 'Fi', 'fost', 'mit-', 'Għal', 'fis-',\n",
       "       \"t'\", 'Wara', 'mis-', 'peress', 'Minn', 'għas-', 'fix-', 'mat-',\n",
       "       'bi', 'Qabel', 'Matul', 'lix-', 'quddiem', 'lis-', 'mid-', 'Lis-',\n",
       "       \"s'\", 'fin-', \"S'\", 'lin-', 'TAD-', 'DWAR', 'TAL-', 'skont',\n",
       "       'matul', 'fid-', 'dment', 'madwar', 'lejn', 'mir-', 'In', 'għan-',\n",
       "       'Għan-', 'inkluż', \"MA'\", 'Fit-', 'mil-', 'bir-', 'mad-', 'Bħala',\n",
       "       'bid-', 'ilu', 'minbarra', 'skond', 'għad-', \"TA'\", 'Lill-',\n",
       "       'inkwantu', 'sa', 'ħlief', 'għal-', 'Peress', 'ġo', \"'il\", 'bix-',\n",
       "       'bħan-', 'max-', 'sax-', 'ħdejn', 'Bil-', 'bla', 'bit-', 'bħall-',\n",
       "       'Fuq', 'maġenb', 'lit-', 'miż-', 'Mingħajr', 'ġewwa', 'taċ-',\n",
       "       'fiċ-', 'ghat-', 'Mill-', 'Sa', 'sat-', 'minflok', 'Lil', 'mas-',\n",
       "       'għand', 'bin-', 'Bis-', 'daqs', 'bħal-', 'jifhimhom', 'Taħt',\n",
       "       'bħar-', 'bħas-', 'tul', 'bħax-', 'ġol-', 'taz-', 'Fir-', 'mar-',\n",
       "       'bi-', 'Għall-', 'Min-', 'in', 'barra', 'Fost', 'biż-', 'għaż-',\n",
       "       'Minkejja', 'għar-', 'minkejja', 'miċ-', 'viċin'], dtype=object)"
      ]
     },
     "execution_count": 25,
     "metadata": {},
     "output_type": "execute_result"
    }
   ],
   "source": [
    "lemma = df[df['UPOS'] == 'ADP']['FORM'].unique()\n",
    "lemma"
   ]
  },
  {
   "cell_type": "code",
   "execution_count": null,
   "metadata": {},
   "outputs": [],
   "source": []
  }
 ],
 "metadata": {
  "kernelspec": {
   "display_name": "Python 3",
   "language": "python",
   "name": "python3"
  },
  "language_info": {
   "codemirror_mode": {
    "name": "ipython",
    "version": 3
   },
   "file_extension": ".py",
   "mimetype": "text/x-python",
   "name": "python",
   "nbconvert_exporter": "python",
   "pygments_lexer": "ipython3",
   "version": "3.7.3"
  }
 },
 "nbformat": 4,
 "nbformat_minor": 2
}
