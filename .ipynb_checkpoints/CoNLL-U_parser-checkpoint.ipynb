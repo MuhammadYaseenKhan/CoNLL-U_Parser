{
 "cells": [
  {
   "cell_type": "code",
   "execution_count": null,
   "metadata": {},
   "outputs": [],
   "source": [
    "from time import time\n",
    "import pandas as pd"
   ]
  },
  {
   "cell_type": "markdown",
   "metadata": {},
   "source": [
    "### `records` be an empty list of lists to hold tagged information"
   ]
  },
  {
   "cell_type": "code",
   "execution_count": null,
   "metadata": {},
   "outputs": [],
   "source": [
    "records = list()"
   ]
  },
  {
   "cell_type": "markdown",
   "metadata": {},
   "source": [
    "### Parsing the `.conllu` file line by lines "
   ]
  },
  {
   "cell_type": "code",
   "execution_count": null,
   "metadata": {},
   "outputs": [],
   "source": [
    "start = time()\n",
    "file_path = '../GDEX/ud/en_ewt-ud-train.conllu' # path where your .conllu file is located\n",
    "with open(file_path, 'r') as file:\n",
    "    doc_id_ = ''\n",
    "    sent_id_ = ''\n",
    "    for line in file:\n",
    "        if len(line) > 1 :\n",
    "            if line[0] == '#':\n",
    "                line = line.split('=')\n",
    "                if 'newdoc id' in line[0]:\n",
    "                    doc_id_ = line[1].strip()\n",
    "                elif 'sent_id' in line[0]:\n",
    "                    sent_id_ = line[1].strip()\n",
    "            else:\n",
    "                info = line.split('\\t')\n",
    "                if len(info) == 10:\n",
    "                    records.append([doc_id_, sent_id_] + [x.strip() for x in info])\n",
    "end = time()\n",
    "print(\"Time elapsed:\", end-start, \"seconds\")"
   ]
  },
  {
   "cell_type": "markdown",
   "metadata": {},
   "source": [
    "### Create a dataframe to copy the parsed records"
   ]
  },
  {
   "cell_type": "code",
   "execution_count": null,
   "metadata": {},
   "outputs": [],
   "source": [
    "df = pd.DataFrame(records, columns=['DOC_NO', 'SENT_NO', 'ID', 'FORM','LEMMA','UPOS', 'XPOS', 'FEAT','HEAD', 'DEPREL', 'DEPS', 'MISC'])"
   ]
  },
  {
   "cell_type": "markdown",
   "metadata": {},
   "source": [
    "### Saving parsed records in tsv (tab separated view) file"
   ]
  },
  {
   "cell_type": "code",
   "execution_count": null,
   "metadata": {},
   "outputs": [],
   "source": [
    "df.to_csv('en_ewt-ud-train.tsv', header=True, index=None, sep='\\t')"
   ]
  }
 ],
 "metadata": {
  "kernelspec": {
   "display_name": "Python 3",
   "language": "python",
   "name": "python3"
  },
  "language_info": {
   "codemirror_mode": {
    "name": "ipython",
    "version": 3
   },
   "file_extension": ".py",
   "mimetype": "text/x-python",
   "name": "python",
   "nbconvert_exporter": "python",
   "pygments_lexer": "ipython3",
   "version": "3.7.3"
  }
 },
 "nbformat": 4,
 "nbformat_minor": 2
}
